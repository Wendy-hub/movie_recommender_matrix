{
 "cells": [
  {
   "cell_type": "markdown",
   "id": "30e97e55",
   "metadata": {},
   "source": [
    "![Image](https://miro.medium.com/max/1400/1*AMYKSt713dygHFRall7sZg.jpeg)"
   ]
  },
  {
   "cell_type": "markdown",
   "id": "db4ceb92",
   "metadata": {},
   "source": [
    "# 概述"
   ]
  },
  {
   "cell_type": "markdown",
   "id": "3242803f",
   "metadata": {},
   "source": [
    "Matrix factorization Recommendation  \n",
    "采用矩阵分解的做法（矩阵分解是隐语义模型（LFM）的重要分支）   \n",
    "主要三种：特征值分解（只能作用于方阵），奇异值分解（它虽然可以用于非方阵，但对于特别稀疏的评分矩阵效果很差），所以本文打算借鉴Funk-SVD的思想分解为两个较小的矩阵(**不是传统线代上的SVD**)，着重考虑这种存在大量缺失值的矩阵。"
   ]
  },
  {
   "cell_type": "markdown",
   "id": "e5af7ef3",
   "metadata": {},
   "source": [
    "# 主要思想"
   ]
  },
  {
   "cell_type": "markdown",
   "id": "13ee0497",
   "metadata": {},
   "source": [
    "<font color='red'>参考2006年Netflix Prize竞赛中使用 SGD for MF 发表的主要突破</font>"
   ]
  },
  {
   "cell_type": "markdown",
   "id": "2f2a1187",
   "metadata": {},
   "source": [
    "### 首先我们将假设用户对电影的评分由有关该电影各个**特征features**的偏好的总和组成\n",
    "\n",
    "如果将其限制为40个features的话，就表示每部电影仅由四十个值描述，表示该电影在多大程度上体现了每个feature，相应地，每个用户都由四十个值描述，说明他们更喜欢每个feature的程度。为了将这些组合成一个评级，我们只需将每个用户偏好乘以相应的电影方面，然后将这四十个倾向相加，以最终得出用户对该电影的喜爱程度的看法。  \n",
    "ratingsMatrix[user][movie] = sum (userFeature[f][user] * movieFeature[f][movie]) for f from 1 to 40"
   ]
  },
  {
   "cell_type": "markdown",
   "id": "91e47716",
   "metadata": {},
   "source": [
    "### **在矩阵方面**，原始矩阵已被分解为两个非常长方形的矩阵，这些矩阵可以最小化产生的近似误差 - 特别是均方误差\n",
    "\n",
    "在开始使用SVD之前，通过记下每部电影的平均评分，以及每个用户的用户评分与电影的平均评分之间的平均偏移量，可以获得良好的开端。即，该<u>baseline</u>模型的预测方法是（c语言）：  \n",
    "static inline  \n",
    "real predictRating_Baseline(int movie, int user) {  \n",
    "&nbsp;return averageRating[movie] + averageOffset[user];  \n",
    "}"
   ]
  },
  {
   "cell_type": "markdown",
   "id": "5bdffa0a",
   "metadata": {},
   "source": [
    "### 定义**损失函数**学习两个矩阵"
   ]
  },
  {
   "cell_type": "markdown",
   "id": "f9dbad19",
   "metadata": {},
   "source": [
    "**改进(adding bias)**\n",
    "\n",
    "**偏移量Offset**表示用户评分相对于平均值的偏移量，不受物品属性的影响。比如对于乐观用户会偏高，消极用户会偏低。\n",
    "\n",
    "**注意真正的平均值很可能比稀疏观察到的平均值更接近先验平均值，对于平均评分和偏移量都是如此。**"
   ]
  },
  {
   "cell_type": "code",
   "execution_count": 3,
   "id": "15223965",
   "metadata": {},
   "outputs": [
    {
     "data": {
      "image/png": "[encoded data removed]",
      "text/plain": [
       "<IPython.core.display.Image object>"
      ]
     },
     "execution_count": 3,
     "metadata": {},
     "output_type": "execute_result"
    }
   ],
   "source": [
    "from IPython.display import Image\n",
    "Image(\"D:/picture/lossFuction.png\")"
   ]
  },
  {
   "cell_type": "markdown",
   "id": "8868743f",
   "metadata": {},
   "source": [
    "这里的评价指标metric采用的是RMSE。\n",
    "\n",
    "其中p(Ui,Mj)代表用户i对电影j的预测，最常用的预测函数p就是点乘，即 p(Ui,Mj)=UTiMj。\n",
    "\n",
    "<font color='purple'>上式中的 I ∈ {0,1}n×m，为一个指示器，指示相应位置是否有评分，有评分为1，没有就为0。</font>\n",
    "\n",
    "等式右边最后两项是**正则化项(regularizer)**，防止过拟合，简单来说，为了同时满足特征数量的不至于过多，即0范数（向量中非零元素的个数），对代价函数来说，就是加入对模型“长相”的惩罚。"
   ]
  },
  {
   "cell_type": "markdown",
   "id": "33472536",
   "metadata": {},
   "source": [
    "<font color='purple'>Funk-svd考虑要最小化的实际损失函数包括一个通用偏差项和用户和项目的两个偏差，  \n",
    "其中u为所有电影items的平均评分，bi和bu分别表示item i的平均得分减去u和user u的平均评分减去u。</font>同时添加正则项。"
   ]
  },
  {
   "attachments": {
    "image.png": {
     "image/png": "[encoded data removed]"
    }
   },
   "cell_type": "markdown",
   "id": "f98b4f69",
   "metadata": {},
   "source": [
    "![image.png](attachment:image.png)"
   ]
  },
  {
   "cell_type": "markdown",
   "id": "bc4351be",
   "metadata": {},
   "source": [
    "### **梯度下降**最小化损失函数"
   ]
  },
  {
   "cell_type": "markdown",
   "id": "bb57b04c",
   "metadata": {},
   "source": [
    "设置学习率，进行梯度下降"
   ]
  },
  {
   "cell_type": "code",
   "execution_count": 4,
   "id": "c3c4bf3a",
   "metadata": {},
   "outputs": [
    {
     "data": {
      "image/png": "[encoded data removed]",
      "text/plain": [
       "<IPython.core.display.Image object>"
      ]
     },
     "execution_count": 4,
     "metadata": {},
     "output_type": "execute_result"
    }
   ],
   "source": [
    "Image(\"D:/picture/SGD.png\")"
   ]
  },
  {
   "cell_type": "markdown",
   "id": "def65b88",
   "metadata": {},
   "source": [
    "# 实验"
   ]
  },
  {
   "cell_type": "markdown",
   "id": "ca3d8415",
   "metadata": {},
   "source": [
    "### 数据预处理"
   ]
  },
  {
   "cell_type": "code",
   "execution_count": 1,
   "id": "15ca1c96",
   "metadata": {},
   "outputs": [],
   "source": [
    "import numpy as np\n",
    "import pandas as pd\n",
    "import matplotlib.pyplot as plt\n",
    "\n",
    "import scipy.sparse as sparse\n",
    "\n",
    "%matplotlib inline"
   ]
  },
  {
   "cell_type": "markdown",
   "id": "9f7631a2",
   "metadata": {},
   "source": [
    "!curl -O http://files.grouplens.org/datasets/movielens/ml-100k.zip\n",
    "    \n",
    "!cd ml-100k/"
   ]
  },
  {
   "cell_type": "code",
   "execution_count": 59,
   "id": "659820d0",
   "metadata": {},
   "outputs": [
    {
     "data": {
      "text/html": [
       "<div>\n",
       "<style scoped>\n",
       "    .dataframe tbody tr th:only-of-type {\n",
       "        vertical-align: middle;\n",
       "    }\n",
       "\n",
       "    .dataframe tbody tr th {\n",
       "        vertical-align: top;\n",
       "    }\n",
       "\n",
       "    .dataframe thead th {\n",
       "        text-align: right;\n",
       "    }\n",
       "</style>\n",
       "<table border=\"1\" class=\"dataframe\">\n",
       "  <thead>\n",
       "    <tr style=\"text-align: right;\">\n",
       "      <th></th>\n",
       "      <th>userId</th>\n",
       "      <th>movieId</th>\n",
       "      <th>rating</th>\n",
       "      <th>timestamp</th>\n",
       "    </tr>\n",
       "  </thead>\n",
       "  <tbody>\n",
       "    <tr>\n",
       "      <th>0</th>\n",
       "      <td>1</td>\n",
       "      <td>1</td>\n",
       "      <td>4.0</td>\n",
       "      <td>964982703</td>\n",
       "    </tr>\n",
       "    <tr>\n",
       "      <th>1</th>\n",
       "      <td>1</td>\n",
       "      <td>3</td>\n",
       "      <td>4.0</td>\n",
       "      <td>964981247</td>\n",
       "    </tr>\n",
       "    <tr>\n",
       "      <th>2</th>\n",
       "      <td>1</td>\n",
       "      <td>6</td>\n",
       "      <td>4.0</td>\n",
       "      <td>964982224</td>\n",
       "    </tr>\n",
       "    <tr>\n",
       "      <th>3</th>\n",
       "      <td>1</td>\n",
       "      <td>47</td>\n",
       "      <td>5.0</td>\n",
       "      <td>964983815</td>\n",
       "    </tr>\n",
       "    <tr>\n",
       "      <th>4</th>\n",
       "      <td>1</td>\n",
       "      <td>50</td>\n",
       "      <td>5.0</td>\n",
       "      <td>964982931</td>\n",
       "    </tr>\n",
       "  </tbody>\n",
       "</table>\n",
       "</div>"
      ],
      "text/plain": [
       "   userId  movieId  rating  timestamp\n",
       "0       1        1     4.0  964982703\n",
       "1       1        3     4.0  964981247\n",
       "2       1        6     4.0  964982224\n",
       "3       1       47     5.0  964983815\n",
       "4       1       50     5.0  964982931"
      ]
     },
     "execution_count": 59,
     "metadata": {},
     "output_type": "execute_result"
    }
   ],
   "source": [
    "df = pd.read_csv('D:/documents/ml-latest-small/ratings.csv')\n",
    "ratings = df\n",
    "df.head()"
   ]
  },
  {
   "cell_type": "code",
   "execution_count": 60,
   "id": "7b129870",
   "metadata": {},
   "outputs": [
    {
     "data": {
      "text/plain": [
       "(610, 9724)"
      ]
     },
     "execution_count": 60,
     "metadata": {},
     "output_type": "execute_result"
    }
   ],
   "source": [
    "df.userId.nunique(), df.movieId.nunique()"
   ]
  },
  {
   "cell_type": "markdown",
   "id": "b2a1ba62",
   "metadata": {},
   "source": [
    "可以看到我们有610个独特的用户和9724个电影"
   ]
  },
  {
   "cell_type": "code",
   "execution_count": 61,
   "id": "60bf64c6",
   "metadata": {},
   "outputs": [
    {
     "data": {
      "text/html": [
       "<div>\n",
       "<style scoped>\n",
       "    .dataframe tbody tr th:only-of-type {\n",
       "        vertical-align: middle;\n",
       "    }\n",
       "\n",
       "    .dataframe tbody tr th {\n",
       "        vertical-align: top;\n",
       "    }\n",
       "\n",
       "    .dataframe thead th {\n",
       "        text-align: right;\n",
       "    }\n",
       "</style>\n",
       "<table border=\"1\" class=\"dataframe\">\n",
       "  <thead>\n",
       "    <tr style=\"text-align: right;\">\n",
       "      <th></th>\n",
       "      <th>userId</th>\n",
       "      <th>movieId</th>\n",
       "    </tr>\n",
       "  </thead>\n",
       "  <tbody>\n",
       "    <tr>\n",
       "      <th>0</th>\n",
       "      <td>1</td>\n",
       "      <td>232</td>\n",
       "    </tr>\n",
       "    <tr>\n",
       "      <th>1</th>\n",
       "      <td>2</td>\n",
       "      <td>29</td>\n",
       "    </tr>\n",
       "    <tr>\n",
       "      <th>2</th>\n",
       "      <td>3</td>\n",
       "      <td>39</td>\n",
       "    </tr>\n",
       "    <tr>\n",
       "      <th>3</th>\n",
       "      <td>4</td>\n",
       "      <td>216</td>\n",
       "    </tr>\n",
       "    <tr>\n",
       "      <th>4</th>\n",
       "      <td>5</td>\n",
       "      <td>44</td>\n",
       "    </tr>\n",
       "  </tbody>\n",
       "</table>\n",
       "</div>"
      ],
      "text/plain": [
       "   userId  movieId\n",
       "0       1      232\n",
       "1       2       29\n",
       "2       3       39\n",
       "3       4      216\n",
       "4       5       44"
      ]
     },
     "execution_count": 61,
     "metadata": {},
     "output_type": "execute_result"
    }
   ],
   "source": [
    "ratings3 = df[[\"userId\", \"movieId\", \"rating\"]]\n",
    "data = df.groupby(\"userId\", as_index=False).agg({\"movieId\": 'count'})\n",
    "data.head()"
   ]
  },
  {
   "cell_type": "code",
   "execution_count": 62,
   "id": "dcb1a1e1",
   "metadata": {},
   "outputs": [
    {
     "data": {
      "image/png": "[encoded data removed]",
      "text/plain": [
       "<Figure size 432x288 with 1 Axes>"
      ]
     },
     "metadata": {
      "needs_background": "light"
     },
     "output_type": "display_data"
    }
   ],
   "source": [
    "data.movieId.hist();"
   ]
  },
  {
   "cell_type": "code",
   "execution_count": 63,
   "id": "e3e34189",
   "metadata": {},
   "outputs": [
    {
     "data": {
      "text/plain": [
       "count     610.000000\n",
       "mean      165.304918\n",
       "std       269.480584\n",
       "min        20.000000\n",
       "25%        35.000000\n",
       "50%        70.500000\n",
       "75%       168.000000\n",
       "max      2698.000000\n",
       "Name: movieId, dtype: float64"
      ]
     },
     "execution_count": 63,
     "metadata": {},
     "output_type": "execute_result"
    }
   ],
   "source": [
    "data.movieId.describe()"
   ]
  },
  {
   "cell_type": "markdown",
   "id": "8c183413",
   "metadata": {},
   "source": [
    "可以看到用户平均会评分165部电影，且至少给20部电影评分。"
   ]
  },
  {
   "cell_type": "markdown",
   "id": "527bba74",
   "metadata": {},
   "source": [
    "### 创建矩阵，在未评分位置先填为0，则需要用使用稀疏矩阵来节省内存"
   ]
  },
  {
   "cell_type": "code",
   "execution_count": 65,
   "id": "cf5ece7a",
   "metadata": {},
   "outputs": [],
   "source": [
    "from pandas.api.types import CategoricalDtype\n",
    "# 使用scipy库\n",
    "from scipy import sparse\n",
    "import scipy\n",
    "\n",
    "users = list(np.sort(ratings.userId.unique())) # 独特用户\n",
    "movies = list(ratings.movieId.unique()) # 独特电影\n",
    "rating = list(ratings.rating) # 所有评分\n",
    "\n",
    "rows = ratings.userId.astype(CategoricalDtype(categories=users)).cat.codes\n",
    "# Get the associated row indices\n",
    "cols = ratings.movieId.astype(CategoricalDtype(categories=movies)).cat.codes\n",
    "# Get the associated column indices\n",
    "user_item = sparse.csr_matrix((rating, (rows, cols)), shape=(len(users), len(movies)))"
   ]
  },
  {
   "cell_type": "code",
   "execution_count": 12,
   "id": "4523c7b0",
   "metadata": {},
   "outputs": [
    {
     "data": {
      "text/plain": [
       "98.30003169443864"
      ]
     },
     "execution_count": 12,
     "metadata": {},
     "output_type": "execute_result"
    }
   ],
   "source": [
    "matrix_size = user_item.shape[0]*user_item.shape[1] # 总的\n",
    "num_purchases = len(user_item.nonzero()[0]) # 非零的\n",
    "sparsity = 100*(1 - (1.0*num_purchases/matrix_size))\n",
    "sparsity"
   ]
  },
  {
   "cell_type": "code",
   "execution_count": 13,
   "id": "a07b689f",
   "metadata": {},
   "outputs": [
    {
     "data": {
      "text/plain": [
       "<610x9724 sparse matrix of type '<class 'numpy.float64'>'\n",
       "\twith 100836 stored elements in Compressed Sparse Row format>"
      ]
     },
     "execution_count": 13,
     "metadata": {},
     "output_type": "execute_result"
    }
   ],
   "source": [
    "user_item"
   ]
  },
  {
   "cell_type": "markdown",
   "id": "2c039f62",
   "metadata": {},
   "source": [
    "用户项目矩阵有610个唯一用户和9724个唯一电影，且稀疏度为98.3%"
   ]
  },
  {
   "cell_type": "markdown",
   "id": "74508ed3",
   "metadata": {},
   "source": [
    "## 使用surprise库实现电影推荐系统"
   ]
  },
  {
   "cell_type": "code",
   "execution_count": 25,
   "id": "08638e3e",
   "metadata": {},
   "outputs": [],
   "source": [
    "import pandas as pd\n",
    "import numpy as np\n",
    "import matplotlib.pyplot as plt"
   ]
  },
  {
   "cell_type": "code",
   "execution_count": 2,
   "id": "12192347",
   "metadata": {},
   "outputs": [],
   "source": [
    "from surprise import SVD, KNNBasic\n",
    "from surprise import Dataset\n",
    "from surprise.model_selection import cross_validate"
   ]
  },
  {
   "cell_type": "code",
   "execution_count": 5,
   "id": "c6fa341c",
   "metadata": {},
   "outputs": [
    {
     "name": "stdout",
     "output_type": "stream",
     "text": [
      "Trying to download dataset from http://files.grouplens.org/datasets/movielens/ml-100k.zip...\n",
      "Done! Dataset ml-100k has been saved to C:\\Users\\argon/.surprise_data/ml-100k\n"
     ]
    }
   ],
   "source": [
    "data = Dataset.load_builtin('ml-100k', prompt = False)"
   ]
  },
  {
   "cell_type": "markdown",
   "id": "e353e036",
   "metadata": {},
   "source": [
    "一种新的类型 **surprise.dataset**，这已经不是pandas的dataframe，这样做的目的只是方便我们更好使用surprise的各种API"
   ]
  },
  {
   "cell_type": "code",
   "execution_count": 23,
   "id": "734406f6",
   "metadata": {},
   "outputs": [],
   "source": [
    "ratings_data = pd.read_csv(\"D:/documents/ml-latest-small/ratings.csv\")\n",
    "movies_data = pd.read_csv(\"D:/documents/ml-latest-small/movies.csv\")"
   ]
  },
  {
   "cell_type": "code",
   "execution_count": 51,
   "id": "18f39600",
   "metadata": {},
   "outputs": [
    {
     "data": {
      "text/html": [
       "<div>\n",
       "<style scoped>\n",
       "    .dataframe tbody tr th:only-of-type {\n",
       "        vertical-align: middle;\n",
       "    }\n",
       "\n",
       "    .dataframe tbody tr th {\n",
       "        vertical-align: top;\n",
       "    }\n",
       "\n",
       "    .dataframe thead th {\n",
       "        text-align: right;\n",
       "    }\n",
       "</style>\n",
       "<table border=\"1\" class=\"dataframe\">\n",
       "  <thead>\n",
       "    <tr style=\"text-align: right;\">\n",
       "      <th></th>\n",
       "      <th>userId</th>\n",
       "      <th>movieId</th>\n",
       "      <th>rating</th>\n",
       "      <th>timestamp</th>\n",
       "    </tr>\n",
       "  </thead>\n",
       "  <tbody>\n",
       "    <tr>\n",
       "      <th>0</th>\n",
       "      <td>1</td>\n",
       "      <td>1</td>\n",
       "      <td>4.0</td>\n",
       "      <td>964982703</td>\n",
       "    </tr>\n",
       "    <tr>\n",
       "      <th>1</th>\n",
       "      <td>1</td>\n",
       "      <td>3</td>\n",
       "      <td>4.0</td>\n",
       "      <td>964981247</td>\n",
       "    </tr>\n",
       "    <tr>\n",
       "      <th>2</th>\n",
       "      <td>1</td>\n",
       "      <td>6</td>\n",
       "      <td>4.0</td>\n",
       "      <td>964982224</td>\n",
       "    </tr>\n",
       "    <tr>\n",
       "      <th>3</th>\n",
       "      <td>1</td>\n",
       "      <td>47</td>\n",
       "      <td>5.0</td>\n",
       "      <td>964983815</td>\n",
       "    </tr>\n",
       "    <tr>\n",
       "      <th>4</th>\n",
       "      <td>1</td>\n",
       "      <td>50</td>\n",
       "      <td>5.0</td>\n",
       "      <td>964982931</td>\n",
       "    </tr>\n",
       "    <tr>\n",
       "      <th>...</th>\n",
       "      <td>...</td>\n",
       "      <td>...</td>\n",
       "      <td>...</td>\n",
       "      <td>...</td>\n",
       "    </tr>\n",
       "    <tr>\n",
       "      <th>100831</th>\n",
       "      <td>610</td>\n",
       "      <td>166534</td>\n",
       "      <td>4.0</td>\n",
       "      <td>1493848402</td>\n",
       "    </tr>\n",
       "    <tr>\n",
       "      <th>100832</th>\n",
       "      <td>610</td>\n",
       "      <td>168248</td>\n",
       "      <td>5.0</td>\n",
       "      <td>1493850091</td>\n",
       "    </tr>\n",
       "    <tr>\n",
       "      <th>100833</th>\n",
       "      <td>610</td>\n",
       "      <td>168250</td>\n",
       "      <td>5.0</td>\n",
       "      <td>1494273047</td>\n",
       "    </tr>\n",
       "    <tr>\n",
       "      <th>100834</th>\n",
       "      <td>610</td>\n",
       "      <td>168252</td>\n",
       "      <td>5.0</td>\n",
       "      <td>1493846352</td>\n",
       "    </tr>\n",
       "    <tr>\n",
       "      <th>100835</th>\n",
       "      <td>610</td>\n",
       "      <td>170875</td>\n",
       "      <td>3.0</td>\n",
       "      <td>1493846415</td>\n",
       "    </tr>\n",
       "  </tbody>\n",
       "</table>\n",
       "<p>100836 rows × 4 columns</p>\n",
       "</div>"
      ],
      "text/plain": [
       "        userId  movieId  rating   timestamp\n",
       "0            1        1     4.0   964982703\n",
       "1            1        3     4.0   964981247\n",
       "2            1        6     4.0   964982224\n",
       "3            1       47     5.0   964983815\n",
       "4            1       50     5.0   964982931\n",
       "...        ...      ...     ...         ...\n",
       "100831     610   166534     4.0  1493848402\n",
       "100832     610   168248     5.0  1493850091\n",
       "100833     610   168250     5.0  1494273047\n",
       "100834     610   168252     5.0  1493846352\n",
       "100835     610   170875     3.0  1493846415\n",
       "\n",
       "[100836 rows x 4 columns]"
      ]
     },
     "execution_count": 51,
     "metadata": {},
     "output_type": "execute_result"
    }
   ],
   "source": [
    "ratings_data"
   ]
  },
  {
   "cell_type": "code",
   "execution_count": 32,
   "id": "451bee21",
   "metadata": {},
   "outputs": [
    {
     "data": {
      "text/html": [
       "<div>\n",
       "<style scoped>\n",
       "    .dataframe tbody tr th:only-of-type {\n",
       "        vertical-align: middle;\n",
       "    }\n",
       "\n",
       "    .dataframe tbody tr th {\n",
       "        vertical-align: top;\n",
       "    }\n",
       "\n",
       "    .dataframe thead th {\n",
       "        text-align: right;\n",
       "    }\n",
       "</style>\n",
       "<table border=\"1\" class=\"dataframe\">\n",
       "  <thead>\n",
       "    <tr style=\"text-align: right;\">\n",
       "      <th></th>\n",
       "      <th>movieId</th>\n",
       "      <th>title</th>\n",
       "      <th>genres</th>\n",
       "    </tr>\n",
       "  </thead>\n",
       "  <tbody>\n",
       "    <tr>\n",
       "      <th>0</th>\n",
       "      <td>1</td>\n",
       "      <td>Toy Story (1995)</td>\n",
       "      <td>Adventure|Animation|Children|Comedy|Fantasy</td>\n",
       "    </tr>\n",
       "    <tr>\n",
       "      <th>1</th>\n",
       "      <td>2</td>\n",
       "      <td>Jumanji (1995)</td>\n",
       "      <td>Adventure|Children|Fantasy</td>\n",
       "    </tr>\n",
       "    <tr>\n",
       "      <th>2</th>\n",
       "      <td>3</td>\n",
       "      <td>Grumpier Old Men (1995)</td>\n",
       "      <td>Comedy|Romance</td>\n",
       "    </tr>\n",
       "    <tr>\n",
       "      <th>3</th>\n",
       "      <td>4</td>\n",
       "      <td>Waiting to Exhale (1995)</td>\n",
       "      <td>Comedy|Drama|Romance</td>\n",
       "    </tr>\n",
       "    <tr>\n",
       "      <th>4</th>\n",
       "      <td>5</td>\n",
       "      <td>Father of the Bride Part II (1995)</td>\n",
       "      <td>Comedy</td>\n",
       "    </tr>\n",
       "    <tr>\n",
       "      <th>...</th>\n",
       "      <td>...</td>\n",
       "      <td>...</td>\n",
       "      <td>...</td>\n",
       "    </tr>\n",
       "    <tr>\n",
       "      <th>9737</th>\n",
       "      <td>193581</td>\n",
       "      <td>Black Butler: Book of the Atlantic (2017)</td>\n",
       "      <td>Action|Animation|Comedy|Fantasy</td>\n",
       "    </tr>\n",
       "    <tr>\n",
       "      <th>9738</th>\n",
       "      <td>193583</td>\n",
       "      <td>No Game No Life: Zero (2017)</td>\n",
       "      <td>Animation|Comedy|Fantasy</td>\n",
       "    </tr>\n",
       "    <tr>\n",
       "      <th>9739</th>\n",
       "      <td>193585</td>\n",
       "      <td>Flint (2017)</td>\n",
       "      <td>Drama</td>\n",
       "    </tr>\n",
       "    <tr>\n",
       "      <th>9740</th>\n",
       "      <td>193587</td>\n",
       "      <td>Bungo Stray Dogs: Dead Apple (2018)</td>\n",
       "      <td>Action|Animation</td>\n",
       "    </tr>\n",
       "    <tr>\n",
       "      <th>9741</th>\n",
       "      <td>193609</td>\n",
       "      <td>Andrew Dice Clay: Dice Rules (1991)</td>\n",
       "      <td>Comedy</td>\n",
       "    </tr>\n",
       "  </tbody>\n",
       "</table>\n",
       "<p>9742 rows × 3 columns</p>\n",
       "</div>"
      ],
      "text/plain": [
       "      movieId                                      title  \\\n",
       "0           1                           Toy Story (1995)   \n",
       "1           2                             Jumanji (1995)   \n",
       "2           3                    Grumpier Old Men (1995)   \n",
       "3           4                   Waiting to Exhale (1995)   \n",
       "4           5         Father of the Bride Part II (1995)   \n",
       "...       ...                                        ...   \n",
       "9737   193581  Black Butler: Book of the Atlantic (2017)   \n",
       "9738   193583               No Game No Life: Zero (2017)   \n",
       "9739   193585                               Flint (2017)   \n",
       "9740   193587        Bungo Stray Dogs: Dead Apple (2018)   \n",
       "9741   193609        Andrew Dice Clay: Dice Rules (1991)   \n",
       "\n",
       "                                           genres  \n",
       "0     Adventure|Animation|Children|Comedy|Fantasy  \n",
       "1                      Adventure|Children|Fantasy  \n",
       "2                                  Comedy|Romance  \n",
       "3                            Comedy|Drama|Romance  \n",
       "4                                          Comedy  \n",
       "...                                           ...  \n",
       "9737              Action|Animation|Comedy|Fantasy  \n",
       "9738                     Animation|Comedy|Fantasy  \n",
       "9739                                        Drama  \n",
       "9740                             Action|Animation  \n",
       "9741                                       Comedy  \n",
       "\n",
       "[9742 rows x 3 columns]"
      ]
     },
     "execution_count": 32,
     "metadata": {},
     "output_type": "execute_result"
    }
   ],
   "source": [
    "movies_data"
   ]
  },
  {
   "cell_type": "markdown",
   "id": "7d9c3f95",
   "metadata": {},
   "source": [
    "### 文档参数解释"
   ]
  },
  {
   "cell_type": "markdown",
   "id": "94b3c9ba",
   "metadata": {},
   "source": [
    "Surprise文档  \n",
    "Root Mean Squared Error (RMSE)\n",
    "Mean Absolute Error (MAE)\n",
    "\n",
    "训练时可用交替最小二乘ALS(Alternating Least Squares)、随机梯度下降SGD(Stochastic Gradient Descent)，以下采用SGD算法加速梯度下降  \n",
    "n_factor是影响因素即特征的数量，默认100  \n",
    "n_epochs是SGD过程的迭代次数，默认20  "
   ]
  },
  {
   "cell_type": "markdown",
   "id": "575df8f3",
   "metadata": {},
   "source": [
    "* algo(AlgoBase)：即所用算法\n",
    "* data(Dataset)：即数据集\n",
    "* measures(list of string)：要计算的性能指标；默认为['RMSE', 'MAE']\n",
    "* cv (cross-validation迭代器, int or None)：将数据分为几堆来进行交叉循环验证，默认为5\n",
    "* verbose(int)：True则打印详细内容"
   ]
  },
  {
   "cell_type": "code",
   "execution_count": 6,
   "id": "5936d232",
   "metadata": {},
   "outputs": [],
   "source": [
    "# 用著名的SVD算法\n",
    "algo = SVD(n_epochs=10)"
   ]
  },
  {
   "cell_type": "code",
   "execution_count": 7,
   "id": "06c4e4ff",
   "metadata": {},
   "outputs": [
    {
     "name": "stdout",
     "output_type": "stream",
     "text": [
      "Evaluating RMSE, MAE of algorithm SVD on 5 split(s).\n",
      "\n",
      "                  Fold 1  Fold 2  Fold 3  Fold 4  Fold 5  Mean    Std     \n",
      "RMSE (testset)    0.9352  0.9392  0.9313  0.9396  0.9415  0.9374  0.0036  \n",
      "MAE (testset)     0.7369  0.7409  0.7342  0.7414  0.7415  0.7390  0.0029  \n",
      "Fit time          3.53    3.61    3.56    3.52    3.64    3.57    0.05    \n",
      "Test time         0.11    0.16    0.10    0.10    0.10    0.11    0.03    \n"
     ]
    }
   ],
   "source": [
    "# 分5部分进行交叉验证结果\n",
    "cross_validate(algo, data, measures=['RMSE', 'MAE'], cv=5, verbose=True);"
   ]
  },
  {
   "cell_type": "markdown",
   "id": "37630132",
   "metadata": {},
   "source": [
    "### SVD++实验，时间较长，效果稍好一些"
   ]
  },
  {
   "cell_type": "code",
   "execution_count": 9,
   "id": "73a6cf29",
   "metadata": {},
   "outputs": [],
   "source": [
    "from surprise import SVDpp\n",
    "from surprise import Dataset\n",
    "from surprise.model_selection import cross_validate"
   ]
  },
  {
   "cell_type": "code",
   "execution_count": 10,
   "id": "cd343705",
   "metadata": {},
   "outputs": [],
   "source": [
    "algo = SVDpp()"
   ]
  },
  {
   "cell_type": "code",
   "execution_count": 11,
   "id": "f1b48952",
   "metadata": {},
   "outputs": [
    {
     "name": "stdout",
     "output_type": "stream",
     "text": [
      "Evaluating RMSE, MAE of algorithm SVDpp on 5 split(s).\n",
      "\n",
      "                  Fold 1  Fold 2  Fold 3  Fold 4  Fold 5  Mean    Std     \n",
      "RMSE (testset)    0.9177  0.9191  0.9215  0.9286  0.9171  0.9208  0.0042  \n",
      "MAE (testset)     0.7189  0.7217  0.7203  0.7282  0.7202  0.7219  0.0033  \n",
      "Fit time          138.67  137.72  139.49  144.65  143.62  140.83  2.78    \n",
      "Test time         2.43    2.44    2.45    2.56    2.62    2.50    0.08    \n"
     ]
    }
   ],
   "source": [
    "cross_validate(algo, data, measures=['RMSE', 'MAE'], cv=5, verbose=True);"
   ]
  },
  {
   "cell_type": "markdown",
   "id": "9ba98afd",
   "metadata": {},
   "source": [
    "### 超参调优"
   ]
  },
  {
   "cell_type": "markdown",
   "id": "2f88d266",
   "metadata": {},
   "source": [
    "GridSearchCV可以来帮助来调整参数"
   ]
  },
  {
   "cell_type": "code",
   "execution_count": 12,
   "id": "09aa4893",
   "metadata": {},
   "outputs": [],
   "source": [
    "from surprise.model_selection import GridSearchCV"
   ]
  },
  {
   "cell_type": "code",
   "execution_count": 13,
   "id": "255500d6",
   "metadata": {},
   "outputs": [
    {
     "name": "stdout",
     "output_type": "stream",
     "text": [
      "0.9271950331555333\n",
      "{'n_factors': 50, 'n_epochs': 20}\n"
     ]
    }
   ],
   "source": [
    "# 找到更合适的参数\n",
    "param_grid = {\n",
    "  'n_factors': [20, 50, 100],\n",
    "  'n_epochs': [5, 10, 20]\n",
    "}\n",
    "\n",
    "gs = GridSearchCV(SVD, param_grid, measures=['rmse', 'mae'], cv=10)\n",
    "gs.fit(data)\n",
    "\n",
    "print(gs.best_score['rmse'])\n",
    "print(gs.best_params['rmse'])"
   ]
  },
  {
   "cell_type": "markdown",
   "id": "85232f99",
   "metadata": {},
   "source": [
    "使用这些参数重新训练模型"
   ]
  },
  {
   "cell_type": "code",
   "execution_count": 14,
   "id": "02c48361",
   "metadata": {},
   "outputs": [
    {
     "data": {
      "text/plain": [
       "<surprise.prediction_algorithms.matrix_factorization.SVD at 0x128e179b9a0>"
      ]
     },
     "execution_count": 14,
     "metadata": {},
     "output_type": "execute_result"
    }
   ],
   "source": [
    "from surprise.model_selection import train_test_split\n",
    " \n",
    "# 应用最好的超参\n",
    "best_factor = gs.best_params['rmse']['n_factors']\n",
    "best_epoch = gs.best_params['rmse']['n_epochs']\n",
    " \n",
    "# sample random trainset and testset\n",
    "# test set is made of 20% of the ratings.\n",
    "trainset, testset = train_test_split(data, test_size=.20)\n",
    " \n",
    "# We'll use the famous SVD algorithm.\n",
    "svd = SVD(n_factors=best_factor, n_epochs=best_epoch)\n",
    " \n",
    "# Train the algorithm on the trainset\n",
    "svd.fit(trainset)"
   ]
  },
  {
   "cell_type": "markdown",
   "id": "87e6e4d5",
   "metadata": {},
   "source": [
    "### 推荐电影"
   ]
  },
  {
   "cell_type": "markdown",
   "id": "9466d717",
   "metadata": {},
   "source": [
    "首先，我们必须找到特定用户未看过的电影列表。\n",
    "之后，我们可以使用模型预测缺失位置。\n",
    "最后，我们可以通过对电影进行排名来获得前n名电影的推荐。"
   ]
  },
  {
   "cell_type": "code",
   "execution_count": 47,
   "id": "fd08fe9f",
   "metadata": {},
   "outputs": [
    {
     "name": "stdout",
     "output_type": "stream",
     "text": [
      "Top 10 item recommendations for user 23:\n",
      "Toy Story (1995) 3.5299125\n",
      "Tell No One (Ne le dis à personne) (2006) 3.5299125\n",
      "Superbad (2007) 3.5299125\n",
      "Brice Man, The (Brice de Nice) (2005) 3.5299125\n",
      "Rush Hour 3 (2007) 3.5299125\n",
      "Last Legion, The (2007) 3.5299125\n",
      "Balls of Fury (2007) 3.5299125\n",
      "China Blue (2005) 3.5299125\n",
      "Sydney White (2007) 3.5299125\n",
      "Rocket Science (2007) 3.5299125\n"
     ]
    }
   ],
   "source": [
    "def generate_recommendation(model, user_id, ratings_df, movies_df, n_items):\n",
    "    list_id = []\n",
    "    \n",
    "    # 得到所有用户ID列表\n",
    "    movie_ids = ratings_df[\"movieId\"].unique()\n",
    " \n",
    "    # 得到用户评分的电影列表\n",
    "    movie_ids_user = ratings_df.loc[ratings_df[\"userId\"] == user_id, \"movieId\"]\n",
    "    # 获取用户未观看的所有电影 IDS 的列表\n",
    "    movie_ids_to_pred = np.setdiff1d(movie_ids, movie_ids_user)\n",
    " \n",
    "    # 对所有的评分应用为4 (只是为了符合Surprise dataset规范)\n",
    "    test_set = [[user_id, movie_id, 4] for movie_id in movie_ids_to_pred]\n",
    " \n",
    "    # 预测评分并推荐\n",
    "    predictions = model.test(test_set)\n",
    "    pred_ratings = np.array([pred.est for pred in predictions])\n",
    "    print(\"Top {0} item recommendations for user {1}:\".format(n_items, user_id))\n",
    "    # 根据评分对top电影评分\n",
    "    index_max = (-pred_ratings).argsort()[:n_items]\n",
    "    for i in index_max:\n",
    "        movie_id = movie_ids_to_pred[i]\n",
    "        print(movies_df[movies_df[\"movieId\"]==movie_id][\"title\"].values[0], pred_ratings[i])\n",
    "        list_id.append(movie_id)  \n",
    "    return list_id\n",
    "\n",
    "# 做推荐的用户\n",
    "userID = 23\n",
    "# 推荐top-n电影\n",
    "n_items = 10\n",
    "# 生成推荐\n",
    "top10 = []\n",
    "top10 = generate_recommendation(svd,userID,ratings_data,movies_data,n_items)"
   ]
  },
  {
   "cell_type": "markdown",
   "id": "5d8d193e",
   "metadata": {},
   "source": [
    "### 显示海报"
   ]
  },
  {
   "cell_type": "code",
   "execution_count": 49,
   "id": "aae0dfa4",
   "metadata": {},
   "outputs": [
    {
     "data": {
      "text/plain": [
       "[1, 54372, 54503, 54617, 54648, 54686, 54732, 54354, 54734, 54745]"
      ]
     },
     "execution_count": 49,
     "metadata": {},
     "output_type": "execute_result"
    }
   ],
   "source": [
    "top10"
   ]
  },
  {
   "cell_type": "code",
   "execution_count": 50,
   "id": "91249173",
   "metadata": {},
   "outputs": [
    {
     "data": {
      "text/html": [
       "<img src=\"https://image.tmdb.org/t/p/original/qcLwD6wxn525whQKYMLyPUUDyMe.jpg\" width=\"100\" height=\"100\"/>"
      ],
      "text/plain": [
       "<IPython.core.display.Image object>"
      ]
     },
     "execution_count": 50,
     "metadata": {},
     "output_type": "execute_result"
    }
   ],
   "source": [
    "api_key = '54341d147efe7b33dece6eb76f0b8985'\n",
    "\n",
    "from IPython.display import Image\n",
    "from IPython.display import display\n",
    "\n",
    "movie_id = 54686 # one in top10，暂时只显示（最后）一张\n",
    "\n",
    "url = \"https://api.themoviedb.org/3/movie/{}?api_key=54341d147efe7b33dece6eb76f0b8985&language=en-US\".format(movie_id)\n",
    "data = requests.get(url)\n",
    "data = data.json()\n",
    "poster_path = data['poster_path']\n",
    "full_path = \"https://image.tmdb.org/t/p/original\" + poster_path\n",
    "Image(url=full_path, width=100, height=100)"
   ]
  },
  {
   "cell_type": "markdown",
   "id": "91ccfb98",
   "metadata": {},
   "source": [
    "## SVD方法从0实现"
   ]
  },
  {
   "cell_type": "markdown",
   "id": "f79eaa1c",
   "metadata": {},
   "source": [
    "* create_utility_matrix接受array，返回矩阵（n x m），n为用户，m为电影\n",
    "* svd 基于numpy实现svd分解，只分析最大的k个特征，其中将nan或不可用的条目同样置为0"
   ]
  },
  {
   "cell_type": "code",
   "execution_count": 13,
   "id": "c5b8270d",
   "metadata": {},
   "outputs": [],
   "source": [
    "# 使用scipy库\n",
    "from scipy import sparse\n",
    "import scipy\n",
    "from scipy.linalg import sqrtm"
   ]
  },
  {
   "cell_type": "code",
   "execution_count": 14,
   "id": "aef4c8fc",
   "metadata": {},
   "outputs": [],
   "source": [
    "# 矩阵的一种创建方式\n",
    "def create_utility_matrix(data, formatizer = {'user':0, 'item': 1, 'value': 2}):\n",
    "    \"\"\"\n",
    "        :param data:      Array-like, 2D, nx3\n",
    "        :param formatizer:pass the formatizer\n",
    "        :return:          utility matrix (n x m), n=users, m=items\n",
    "    \"\"\"\n",
    "        \n",
    "    itemField = formatizer['item']\n",
    "    userField = formatizer['user']\n",
    "    valueField = formatizer['value']\n",
    "    userList = data.iloc[:,userField].tolist()\n",
    "    itemList = data.iloc[:,itemField].tolist()\n",
    "    valueList = data.iloc[:,valueField].tolist()\n",
    "    users = list(set(data.iloc[:,userField]))\n",
    "    items = list(set(data.iloc[:,itemField]))\n",
    "    users_index = {users[i]: i for i in range(len(users))}\n",
    "    pd_dict = {item: [np.nan for i in range(len(users))] for item in items}\n",
    "    for i in range(0,len(data)):\n",
    "        item = itemList[i]\n",
    "        user = userList[i]\n",
    "        value = valueList[i]\n",
    "    pd_dict[item][users_index[user]] = value\n",
    "    X = pd.DataFrame(pd_dict)\n",
    "    X.index = users\n",
    "        \n",
    "    itemcols = list(X.columns)\n",
    "    items_index = {itemcols[i]: i for i in range(len(itemcols))}\n",
    "    # users_index 提供了 user_id 到用户索引的映射\n",
    "    # items_index 提供同样的到电影\n",
    "    return X, users_index, items_index"
   ]
  },
  {
   "cell_type": "code",
   "execution_count": 15,
   "id": "88e0ed69",
   "metadata": {},
   "outputs": [],
   "source": [
    "# svd的实现\n",
    "def svd(train, k):\n",
    "    utilMat = np.array(train)\n",
    "    # nan或不可用的条目被屏蔽\n",
    "    mask = np.isnan(utilMat)\n",
    "    masked_arr = np.ma.masked_array(utilMat, mask)\n",
    "    item_means = np.mean(masked_arr, axis=0)\n",
    "    # nan 条目将替换为每个项目的平均评分\n",
    "    utilMat = masked_arr.filled(item_means)\n",
    "    x = np.tile(item_means, (utilMat.shape[0],1))\n",
    "    # 移除平均的电影，现在nan的几乎就都是0了\n",
    "    utilMat = utilMat - x\n",
    "    # 使用numpy.linalg的svd，U and V are user and item features\n",
    "    U, s, V=np.linalg.svd(utilMat, full_matrices=False)\n",
    "    s=np.diag(s)\n",
    "    # 只取最具大的k个特征\n",
    "    s=s[0:k,0:k]\n",
    "    U=U[:,0:k]\n",
    "    V=V[0:k,:]\n",
    "    s_root=sqrtm(s)\n",
    "    Usk=np.dot(U,s_root)\n",
    "    skV=np.dot(s_root,V)\n",
    "    UsV = np.dot(Usk, skV)\n",
    "    UsV = UsV + x\n",
    "    print(\"svd done\")\n",
    "    return UsV"
   ]
  },
  {
   "cell_type": "code",
   "execution_count": 16,
   "id": "c8219ba1",
   "metadata": {},
   "outputs": [],
   "source": [
    "# 定义一下rmse损失函数\n",
    "def rmse(true, pred):\n",
    "    x = true - pred\n",
    "    return sum([xi*xi for xi in x])/len(x)"
   ]
  },
  {
   "cell_type": "markdown",
   "id": "1dd30d46",
   "metadata": {},
   "source": [
    "## PyTorch训练网络"
   ]
  },
  {
   "cell_type": "code",
   "execution_count": null,
   "id": "d95930c1",
   "metadata": {},
   "outputs": [],
   "source": [
    "import os\n",
    "\n",
    "import numpy as np\n",
    "import pandas as pd\n",
    "import torch\n",
    "import torch.nn as nn\n",
    "from torch.utils.data import Dataset, DataLoader\n",
    "from sklearn.model_selection import train_test_split\n",
    "\n",
    "\n",
    "class MFDataset(Dataset):\n",
    "    def __init__(self, u_id, i_id, rating):\n",
    "        self.u_id = u_id\n",
    "        self.i_id = i_id\n",
    "        self.rating = rating\n",
    "\n",
    "    def __getitem__(self, index):\n",
    "        return self.u_id[index], self.i_id[index], self.rating[index]\n",
    "\n",
    "    def __len__(self):\n",
    "        return len(self.rating)\n",
    "\n",
    "\n",
    "class MF(nn.Module):\n",
    "    def __init__(self, num_users, num_items, mean, embedding_size=100):\n",
    "        super().__init__()\n",
    "        self.user_emb = nn.Embedding(num_users, embedding_size)  # 隐向量\n",
    "        self.user_bias = nn.Embedding(num_users, 1)  # 用户偏置\n",
    "        self.item_emb = nn.Embedding(num_items, embedding_size)  # 隐向量\n",
    "        self.item_bias = nn.Embedding(num_items, 1)  # 物品偏置\n",
    "\n",
    "        # 参数初始化\n",
    "        self.user_emb.weight.data.uniform_(0, 0.005)  # 0-0.05之间均匀分布\n",
    "        self.user_bias.weight.data.uniform_(-0.01, 0.01)\n",
    "        self.item_emb.weight.data.uniform_(0, 0.005)\n",
    "        self.item_bias.weight.data.uniform_(-0.01, 0.01)\n",
    "\n",
    "        # 全局偏置\n",
    "        # 将不可训练的tensor转换成可训练的类型parameter，并绑定到module里，net.parameter()中就有了这个参数\n",
    "        self.mean = nn.Parameter(torch.FloatTensor([mean]), False)\n",
    "\n",
    "    def forward(self, u_id, i_id):\n",
    "        U = self.user_emb(u_id)\n",
    "        b_u = self.user_bias(u_id).squeeze()\n",
    "        I = self.item_emb(i_id)\n",
    "        b_i = self.item_bias(i_id).squeeze()\n",
    "        return (U * I).sum(1) + b_u + b_i + self.mean  # 返回预测评分\n",
    "\n",
    "\n",
    "def train(model, x_train, y_train, loss_func):\n",
    "    train_ls = []  # 返回训练误差\n",
    "    train_dataset = MFDataset(x_train[:, 0], x_train[:, 1], y_train)\n",
    "    # DataLoader将一个batch_size封装成一个tensor，方便迭代\n",
    "    train_iter = DataLoader(train_dataset, batch_size=1024)\n",
    "\n",
    "    # weight_decay是正则化系数\n",
    "    optimizer = torch.optim.Adam(model.parameters(), lr=1e-4, weight_decay=0.1)\n",
    "    model = model.float()\n",
    "    for epoch in range(50):\n",
    "        model.train()  # 如果模型中有Batch Normalization或Dropout层，需要在训练时添加model.train()，使起作用\n",
    "        total_loss, total_len = 0.0, 0\n",
    "        for x_u, x_i, y in train_iter:\n",
    "            y_pred = model(x_u, x_i)\n",
    "            l = loss_func(y_pred, y).sum()\n",
    "            optimizer.zero_grad()  # 清空这一批的梯度\n",
    "            l.backward()  # 回传\n",
    "            optimizer.step()  # 参数更新\n",
    "\n",
    "            total_loss += l.item()\n",
    "            total_len += len(y)\n",
    "        train_ls.append(total_loss / total_len)\n",
    "    return train_ls\n",
    "\n",
    "\n",
    "if __name__ == '__main__':\n",
    "    pd.set_option('display.max_rows', 1000, 'display.max_columns', None,\n",
    "                  'display.float_format', lambda x: \"%.2f\" % x)\n",
    "    # path = r'D:\\documents\\ml-latest-small'\n",
    "    # df = readRatings(path)\n",
    "\n",
    "    df = pd.read_csv('D:/documents/ml-latest-small/ratings.csv')\n",
    "\n",
    "    x, y = df.iloc[:, :2], df.iloc[:, 2]\n",
    "    x = torch.tensor(x.values, dtype=torch.int64)\n",
    "    y = torch.tensor(y.values, dtype=torch.float32)\n",
    "\n",
    "    x_train, x_test, y_train, y_test = train_test_split(x.numpy(), y.numpy(), test_size=0.3, random_state=1)\n",
    "\n",
    "    mean_rating = df.iloc[:, 2].mean()\n",
    "    # 虽然数据集的UserID是从1开始的，但这里还是需要+1，因为nn.Embedding是从索引0开始，而model(x_u, x_i)传的是真实的ID\n",
    "    num_users, num_items = df['userId'].max() + 1, df['movieId'].max() + 1\n",
    "\n",
    "    model = MF(num_users, num_items, mean_rating)\n",
    "    # 已经训练好了保存模型，训练时间较长\n",
    "    # loss = nn.MSELoss(reduction='sum')\n",
    "    #\n",
    "    # train_ls = train(model, x_train, y_train, loss)\n",
    "    # print(train_ls)\n",
    "\n",
    "    # PATH = 'D:/python_projects/Matrix'\n",
    "    # torch.save(model.state_dict(), os.path.join(PATH, \"mf.pth\"))\n",
    "\n",
    "    model.load_state_dict(torch.load('D:/python_projects/Matrix/mf.pth'))\n",
    "\n",
    "    u_tensor = torch.tensor([23], dtype=torch.int64)\n",
    "    i_tensor = torch.tensor([54686], dtype=torch.int64)\n",
    "    prediction = model(u_tensor, i_tensor)"
   ]
  },
  {
   "cell_type": "markdown",
   "id": "00d0d255",
   "metadata": {},
   "source": [
    "在PyCharm上基于PyTorch的虚拟环境训练结果如下："
   ]
  },
  {
   "cell_type": "markdown",
   "id": "dffd20bf",
   "metadata": {},
   "source": [
    "loss值：  \n",
    "[1.0859073494888698, 1.0793489743015403, 1.0707012996091259, 1.0594407555772738, 1.0457588733538796, 1.0301769373597103, 1.0133403015244806, 0.9958982489944526, 0.9784321317424802, 0.961414194211766, 0.9451898416885448, 0.9299781444247184, 0.9158858890834742, 0.9029298137468345, 0.891062052705736, 0.8801944571344611, 0.8702191257659205, 0.8610233962708967, 0.8524997417992823, 0.8445512817408753, 0.8370939927743921, 0.8300569068847622, 0.8233810936061132, 0.8170180041129489, 0.8109277426761617, 0.8050774643658798, 0.7994399309952097, 0.7939924181339432, 0.7887157890102027, 0.7835937984234433, 0.7786126024570885, 0.7737602768382092, 0.7690265514732901, 0.7644025173134563, 0.7598804568724211, 0.7554536660973914, 0.7511162796987896, 0.7468632140797664, 0.7426899978541497, 0.7385927355288615, 0.7345680218981879, 0.7306128884321098, 0.7267247410175897, 0.7229013046174936, 0.7191406353764521, 0.7154410004269565, 0.7118009038304881, 0.708219025183511, 0.7046942213468801, 0.7012254659165368]\n",
    "\n",
    "可见可以达到很接近0.7的误差\n",
    "\n",
    "**预测某个用户对某部电影评分**，如预测用户ID23对电影ID54686的评分为：3.4884"
   ]
  },
  {
   "cell_type": "markdown",
   "id": "84e5f651",
   "metadata": {},
   "source": [
    "# 电影推荐系统现状发展"
   ]
  },
  {
   "cell_type": "markdown",
   "id": "f108fb15",
   "metadata": {},
   "source": [
    "传统的推荐系统除了协同过滤的**SVD(低秩分解，不是传统线代里的SVD)**，还有基于用户UserCF和基于物品ItemCF的方法，例如可以用k近邻KNN并用余弦计算相似度。以及**神经网络**方法等。  \n",
    "* 考虑**truncated SVD**降维，只采用最大的k奇异值，它是可以处理稀疏矩阵以生成特征矩阵，同样可以降维，与PCA对比，PCA将对整个矩阵进行操作，以输出协方差矩阵。  \n",
    "* 另外考虑从概率角度推出的**PMF**，它使用最大后验近似来学习模型(贝叶斯派那个)，低秩矩阵分解试图最小化由两个低秩矩阵的乘法近似的矩阵的 L2 损失，PMF中选择的Gussian方差与SVD损失中的加权参数（重量衰减的超参数）之间存在关系。  "
   ]
  },
  {
   "cell_type": "markdown",
   "id": "104c6729",
   "metadata": {},
   "source": [
    "按照推荐系统应用场景可以大致划分为：CTR预估、TopN推荐、对话式推荐、序列推荐等。同时，GNN、强化学习、多任务学习、迁移学习、AutoML、元学习在推荐系统的落地应用也成为当下的主要研究点。此届会议有很大一部分来自工业界的论文，包括Google、Microsoft、Criteo、Spotify以及国内大厂阿里、百度、字节、华为、滴滴等。"
   ]
  }
 ],
 "metadata": {
  "kernelspec": {
   "display_name": "Python 3 (ipykernel)",
   "language": "python",
   "name": "python3"
  },
  "language_info": {
   "codemirror_mode": {
    "name": "ipython",
    "version": 3
   },
   "file_extension": ".py",
   "mimetype": "text/x-python",
   "name": "python",
   "nbconvert_exporter": "python",
   "pygments_lexer": "ipython3",
   "version": "3.9.12"
  },
  "toc": {
   "base_numbering": 1,
   "nav_menu": {},
   "number_sections": true,
   "sideBar": true,
   "skip_h1_title": false,
   "title_cell": "Table of Contents",
   "title_sidebar": "Contents",
   "toc_cell": false,
   "toc_position": {},
   "toc_section_display": true,
   "toc_window_display": false
  },
  "varInspector": {
   "cols": {
    "lenName": 16,
    "lenType": 16,
    "lenVar": 40
   },
   "kernels_config": {
    "python": {
     "delete_cmd_postfix": "",
     "delete_cmd_prefix": "del ",
     "library": "var_list.py",
     "varRefreshCmd": "print(var_dic_list())"
    },
    "r": {
     "delete_cmd_postfix": ") ",
     "delete_cmd_prefix": "rm(",
     "library": "var_list.r",
     "varRefreshCmd": "cat(var_dic_list()) "
    }
   },
   "types_to_exclude": [
    "module",
    "function",
    "builtin_function_or_method",
    "instance",
    "_Feature"
   ],
   "window_display": false
  }
 },
 "nbformat": 4,
 "nbformat_minor": 5
}
